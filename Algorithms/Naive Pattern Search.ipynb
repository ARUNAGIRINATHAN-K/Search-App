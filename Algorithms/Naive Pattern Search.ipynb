{
 "cells": [
  {
   "cell_type": "code",
   "execution_count": null,
   "id": "69140293",
   "metadata": {},
   "outputs": [],
   "source": [
    "def naive_search(text, pattern):\n",
    "    n = len(text)\n",
    "    m = len(pattern)\n",
    "\n",
    "    for i in range(n - m + 1):\n",
    "        match = True\n",
    "        for j in range(m):\n",
    "            if text[i + j] != pattern[j]:\n",
    "                match = False\n",
    "                break\n",
    "        if match:\n",
    "            return i\n",
    "    return -1"
   ]
  }
 ],
 "metadata": {
  "language_info": {
   "name": "python"
  }
 },
 "nbformat": 4,
 "nbformat_minor": 5
}
