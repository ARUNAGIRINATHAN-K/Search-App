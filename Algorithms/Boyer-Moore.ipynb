{
 "cells": [
  {
   "cell_type": "code",
   "execution_count": null,
   "id": "706fc613",
   "metadata": {},
   "outputs": [],
   "source": [
    "def bad_char_heuristic(pattern):\n",
    "    bad_char = [-1] * 256\n",
    "    for i in range(len(pattern)):\n",
    "        bad_char[ord(pattern[i])] = i\n",
    "    return bad_char\n",
    "\n",
    "def boyer_moore_search(text, pattern):\n",
    "    m = len(pattern)\n",
    "    n = len(text)\n",
    "    bad_char = bad_char_heuristic(pattern)\n",
    "\n",
    "    s = 0  # shift of the pattern\n",
    "    while s <= n - m:\n",
    "        j = m - 1\n",
    "        while j >= 0 and pattern[j] == text[s + j]:\n",
    "            j -= 1\n",
    "\n",
    "        if j < 0:\n",
    "            return s  # match found\n",
    "        else:\n",
    "            s += max(1, j - bad_char[ord(text[s + j])])\n",
    "    return -1\n"
   ]
  }
 ],
 "metadata": {
  "language_info": {
   "name": "python"
  }
 },
 "nbformat": 4,
 "nbformat_minor": 5
}
